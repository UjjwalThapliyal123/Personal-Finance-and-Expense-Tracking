{
 "cells": [
  {
   "cell_type": "code",
   "execution_count": null,
   "id": "2f827108-c51e-4661-87b3-96cfda6ee541",
   "metadata": {},
   "outputs": [],
   "source": []
  }
 ],
 "metadata": {
  "kernelspec": {
   "display_name": "",
   "name": ""
  },
  "language_info": {
   "name": ""
  }
 },
 "nbformat": 4,
 "nbformat_minor": 5
}
