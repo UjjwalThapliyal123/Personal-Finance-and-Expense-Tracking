{
 "cells": [
  {
   "cell_type": "code",
   "execution_count": 1,
   "id": "d87bb027-0070-4e18-afca-d895078f8da1",
   "metadata": {},
   "outputs": [],
   "source": [
    "import pandas as pd # to get dataframes\n",
    "from faker import Faker # to generate fake data\n",
    "import random # random Values\n",
    "from datetime import date # get date"
   ]
  },
  {
   "cell_type": "code",
   "execution_count": 2,
   "id": "ed295a65-b224-4578-840c-2fec8380dac3",
   "metadata": {},
   "outputs": [],
   "source": [
    "fake=Faker()# assigning the fake value"
   ]
  },
  {
   "cell_type": "code",
   "execution_count": 7,
   "id": "d15d35f7-d95c-4aca-8795-fc061fd824b8",
   "metadata": {},
   "outputs": [],
   "source": [
    " #creating list to store the values \n",
    "Categories=['Groceries','Utilities','Rent','Entertainment','Insurance','Travel','Subscription','Taxes','Investmemnts']\n",
    "Payment_mode=['Paytm','Gpay','Credit_card','Debit_card','Cash','Paypal','Check','Bank_transfer','Visa']\n",
    "Description=['High Quality incredients','Bills are dued every month','The rent of the apartment is due at 1 of every month',\n",
    "             'I enjoys watching movies at the theatre','Investment in any like of vehicle make people free ','Exploring new destination and adventures',\n",
    "             'Subcribed to interesting services','I keeps track of my receipts and expenses','Diversifying the money in stock, real-estate and FD increases finacial stabilty for the future']"
   ]
  },
  {
   "cell_type": "code",
   "execution_count": 9,
   "id": "7e4d16a8-0251-48d2-818b-84f6e53462fe",
   "metadata": {},
   "outputs": [
    {
     "name": "stdout",
     "output_type": "stream",
     "text": [
      "            DATE     CATEGORIES   PAYMENT_MODE  \\\n",
      "0     2024-01-06  Entertainment     Debit_card   \n",
      "1     2024-01-24          Taxes  Bank_transfer   \n",
      "2     2024-01-17      Groceries    Credit_card   \n",
      "3     2024-01-25         Travel           Gpay   \n",
      "4     2024-01-08      Utilities          Check   \n",
      "...          ...            ...            ...   \n",
      "1807  2024-12-01         Travel          Paytm   \n",
      "1808  2024-12-11         Travel           Visa   \n",
      "1809  2024-12-13  Entertainment         Paypal   \n",
      "1810  2024-12-05      Utilities     Debit_card   \n",
      "1811  2024-12-24   Subscription         Paypal   \n",
      "\n",
      "                                            DESCRIPTION  AMOUNTS  CASHBACK  \n",
      "0     Investment in any like of vehicle make people ...  9128.39    315.54  \n",
      "1             I keeps track of my receipts and expenses  4256.59    287.86  \n",
      "2                     Subcribed to interesting services  5829.65    501.20  \n",
      "3     The rent of the apartment is due at 1 of every...  7537.39    283.20  \n",
      "4     Diversifying the money in stock, real-estate a...  6790.33    359.06  \n",
      "...                                                 ...      ...       ...  \n",
      "1807            I enjoys watching movies at the theatre  8607.02    538.55  \n",
      "1808  The rent of the apartment is due at 1 of every...  1484.95    129.03  \n",
      "1809                           High Quality incredients  6210.66    337.95  \n",
      "1810                           High Quality incredients  1283.44     46.10  \n",
      "1811  Diversifying the money in stock, real-estate a...  4076.88    371.17  \n",
      "\n",
      "[1812 rows x 6 columns]\n"
     ]
    }
   ],
   "source": [
    "#creating the function to generate expenses\n",
    "def get_expense(enteries,start_date,end_date):\n",
    "    values=[] #empty_list\n",
    "    for _ in range(enteries):\n",
    "        amount=round(random.uniform(1000,10000),2)\n",
    "        expenses={\n",
    "            'DATE':fake.date_between(start_date=start_date,end_date=end_date),\n",
    "            'CATEGORIES':random.choice(Categories),\n",
    "            'PAYMENT_MODE':random.choice(Payment_mode),\n",
    "            'DESCRIPTION':random.choice(Description),\n",
    "            'AMOUNTS':amount,\n",
    "            \"CASHBACK\": round(random.uniform(0, 0.1) * amount, 2)\n",
    "        }\n",
    "        values.append(expenses)\n",
    "    return pd.DataFrame(values)\n",
    "\n",
    "months=[\n",
    "    (2024,1,1,2024,1,31),\n",
    "    (2024,2,1,2024,2,28),\n",
    "    (2024,3,1,2024,3,31),\n",
    "    (2024,4,1,2024,4,30),\n",
    "    (2024,5,1,2024,5,31),\n",
    "    (2024,6,1,2024,6,30),\n",
    "    (2024,7,1,2024,7,31),   \n",
    "    (2024,8,1,2024,8,31),\n",
    "    (2024,9,1,2024,9,30),\n",
    "    (2024,10,1,2024,10,31),\n",
    "    (2024,11,1,2024,11,30),\n",
    "    (2024,12,1,2024,12,31)\n",
    "]\n",
    "\n",
    "\n",
    "# List to hold the DateFrames\n",
    "all_expenses=[]\n",
    "\n",
    "# getting data for each months\n",
    "for year_start,month_start,date_start,year_end,month_end,date_end in months:\n",
    "    df=get_expense(151,date(year_start,month_start,date_start), date(year_end,month_end,date_end))\n",
    "    all_expenses.append(df)\n",
    "\n",
    "combined_expenses=pd.concat(all_expenses,ignore_index=True)\n",
    "print(combined_expenses)\n",
    "                   \n"
   ]
  },
  {
   "cell_type": "code",
   "execution_count": 11,
   "id": "727eeb5d-0abf-441e-aaee-dfdbfa2a3f0a",
   "metadata": {},
   "outputs": [],
   "source": [
    "file_name='combined_expenses.csv'\n",
    "combined_expenses.to_csv(file_name,index=False)"
   ]
  },
  {
   "cell_type": "code",
   "execution_count": 13,
   "id": "f2763005-e014-4696-9a90-ddcc36ccaf8e",
   "metadata": {},
   "outputs": [],
   "source": [
    "import pymysql"
   ]
  },
  {
   "cell_type": "code",
   "execution_count": 17,
   "id": "db273c16-edc7-4f19-b6ea-2ad56750a9df",
   "metadata": {},
   "outputs": [
    {
     "name": "stdout",
     "output_type": "stream",
     "text": [
      "Data Successfully inserted into Database\n"
     ]
    }
   ],
   "source": [
    "file_name='combined_expenses.csv'\n",
    "df=pd.read_csv(file_name)\n",
    "conn=pymysql.connect(host='localhost',user='root',password='789456ujjwal@',database='TRACKER_EXPENSE')\n",
    "\n",
    "cursor=conn.cursor()\n",
    "\n",
    "# creating table if not their\n",
    "cursor.execute(\"\"\"\n",
    "CREATE TABLE IF NOT EXISTS combined_expenses(\n",
    "Date DATE,\n",
    "Categories varchar(100),\n",
    "Payment_Mode varchar(40),\n",
    "Description text,\n",
    "Amount Decimal(10,2),\n",
    "Cashback Decimal(10,2)\n",
    ")\n",
    "\"\"\")\n",
    "# inserting the data\n",
    "for index,row in df.iterrows():\n",
    "    cursor.execute(\"\"\"\n",
    "    insert into combined_expenses(Date,Categories,Payment_Mode,Description,Amount,Cashback)\n",
    "    values(%s, %s, %s, %s, %s, %s)\n",
    "    \"\"\",tuple(row))\n",
    "# commiting\n",
    "conn.commit()\n",
    "cursor.close()\n",
    "conn.close()\n",
    "print(\"Data Successfully inserted into Database\")\n"
   ]
  },
  {
   "cell_type": "code",
   "execution_count": null,
   "id": "da6773aa",
   "metadata": {},
   "outputs": [],
   "source": []
  }
 ],
 "metadata": {
  "kernelspec": {
   "display_name": "Python 3 (ipykernel)",
   "language": "python",
   "name": "python3"
  },
  "language_info": {
   "codemirror_mode": {
    "name": "ipython",
    "version": 3
   },
   "file_extension": ".py",
   "mimetype": "text/x-python",
   "name": "python",
   "nbconvert_exporter": "python",
   "pygments_lexer": "ipython3",
   "version": "3.12.7"
  }
 },
 "nbformat": 4,
 "nbformat_minor": 5
}
